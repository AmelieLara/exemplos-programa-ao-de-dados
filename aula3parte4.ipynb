{
 "cells": [
  {
   "cell_type": "code",
   "execution_count": 10,
   "metadata": {},
   "outputs": [
    {
     "name": "stdout",
     "output_type": "stream",
     "text": [
      "Area = 3.1416\n"
     ]
    }
   ],
   "source": [
    "pi = 3.14159\n",
    "raio = float (input())\n",
    "area1 = pi * raio ** 2\n",
    "print('Area = {:.4f}'.format(area1))"
   ]
  },
  {
   "cell_type": "code",
   "execution_count": 1,
   "metadata": {},
   "outputs": [
    {
     "name": "stdout",
     "output_type": "stream",
     "text": [
      "Triangulo = 12.000\n",
      "Circulo: 113.097\n",
      "Trapezio: 27.000\n",
      "Quadrado: 25.000\n",
      "Retangulo: 20.000\n"
     ]
    }
   ],
   "source": [
    "a,b,c = [float(x) for x in input().split()]\n",
    "\n",
    "triangulo = a * c/ 2\n",
    "print(f'Triangulo = {triangulo:.3f}')\n",
    "\n",
    "circulo = 3.14159 * c * c\n",
    "print(f'Circulo: {circulo:.3f}')\n",
    "\n",
    "trapezio = c * (a + b) / 2\n",
    "print(f'Trapezio: {trapezio:.3f}')\n",
    "\n",
    "quadrado = b * b\n",
    "print(f'Quadrado: {quadrado:.3f}')\n",
    "\n",
    "retangulo = a * b\n",
    "print(f'Retangulo: {retangulo:.3f}')"
   ]
  },
  {
   "cell_type": "code",
   "execution_count": 29,
   "metadata": {},
   "outputs": [],
   "source": [
    "class Forma:\n",
    "    def area(self):\n",
    "        return 0"
   ]
  },
  {
   "cell_type": "code",
   "execution_count": 30,
   "metadata": {},
   "outputs": [],
   "source": [
    "class Circulo(Forma):\n",
    "    def __init__(self, raio):\n",
    "        self.raio = raio\n",
    "\n",
    "    def area(self):\n",
    "        return 3.14159 * self.raio ** 2"
   ]
  },
  {
   "cell_type": "code",
   "execution_count": 15,
   "metadata": {},
   "outputs": [
    {
     "name": "stdout",
     "output_type": "stream",
     "text": [
      "Area = 3.1416\n"
     ]
    }
   ],
   "source": [
    "raio = float(input())\n",
    "\n",
    "circ = Circulo(raio)\n",
    "a = circ.area()\n",
    "print(f'Area = {a:.4f}')"
   ]
  },
  {
   "cell_type": "code",
   "execution_count": 31,
   "metadata": {},
   "outputs": [],
   "source": [
    "class Triangulo(Forma):\n",
    "    def __init__(self, base, altura):\n",
    "        self.base = base\n",
    "        self.altura = altura\n",
    "\n",
    "    def area(self):\n",
    "        return (self.base * self.altura) / 2 "
   ]
  },
  {
   "cell_type": "code",
   "execution_count": 27,
   "metadata": {},
   "outputs": [
    {
     "data": {
      "text/plain": [
       "6.0"
      ]
     },
     "execution_count": 27,
     "metadata": {},
     "output_type": "execute_result"
    }
   ],
   "source": [
    "t1 = Triangulo(3, 4)\n",
    "t1.area()"
   ]
  },
  {
   "cell_type": "code",
   "execution_count": 32,
   "metadata": {},
   "outputs": [],
   "source": [
    "class Trapezio(Forma):\n",
    "    def __init__(self, a, b, h):\n",
    "        self.a = a\n",
    "        self.b = b\n",
    "        self.h = h\n",
    "\n",
    "    def area(self):\n",
    "        return self.h * (self.a + self.b)/ 2"
   ]
  },
  {
   "cell_type": "code",
   "execution_count": 35,
   "metadata": {},
   "outputs": [
    {
     "name": "stdout",
     "output_type": "stream",
     "text": [
      "Triangulo: 7.800\n"
     ]
    }
   ],
   "source": [
    "# programa Principal\n",
    "a, b, c = [float(x) for x in input().split()]\n",
    "\n",
    "tri = Triangulo (a,c)\n",
    "a = tri.area()\n",
    "\n",
    "print(f'Triangulo: {a:.3f}')"
   ]
  }
 ],
 "metadata": {
  "kernelspec": {
   "display_name": "Python 3",
   "language": "python",
   "name": "python3"
  },
  "language_info": {
   "codemirror_mode": {
    "name": "ipython",
    "version": 3
   },
   "file_extension": ".py",
   "mimetype": "text/x-python",
   "name": "python",
   "nbconvert_exporter": "python",
   "pygments_lexer": "ipython3",
   "version": "3.11.2"
  }
 },
 "nbformat": 4,
 "nbformat_minor": 2
}
