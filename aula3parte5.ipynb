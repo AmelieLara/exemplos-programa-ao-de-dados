{
 "cells": [
  {
   "cell_type": "code",
   "execution_count": 1,
   "metadata": {},
   "outputs": [
    {
     "name": "stdout",
     "output_type": "stream",
     "text": [
      "Distancia = 2.8284\n"
     ]
    }
   ],
   "source": [
    "import math\n",
    "\n",
    "x1, y1 = [float(a) for a in input().split()]\n",
    "x2, y2 = [float(a) for a in input().split()]\n",
    "\n",
    "d = math.sqrt((x2-x1)**2 + (y2 - y1)**2)\n",
    "print(f'Distancia = {d:.4f}')"
   ]
  },
  {
   "cell_type": "code",
   "execution_count": 8,
   "metadata": {},
   "outputs": [],
   "source": [
    "\"\"\" >>> p = Point (3,4)\n",
    "    >>> p.x1\n",
    "    3\n",
    "\n",
    "    >>> p = Point(3.0,4.0)\n",
    "    p.y\n",
    "    4.0\n",
    "\n",
    "    >>> p1 = Point (3,0)\n",
    "    >>> p2 = Point(0,4)\n",
    "    >>> p1.distance(p2)\n",
    "    5.0\n",
    "\n",
    "\"\"\"\n",
    "\n",
    "class Point:\n",
    "    def __init__(self, x, y):\n",
    "        self.x = x\n",
    "        self.y = y\n",
    "\n",
    "    def distance(self, other):\n",
    "        return math.sqrt((self.x - other.x)**2 + (self.y - other.y)**2)\n",
    "    \n",
    "if __name__ == \" __main__\":\n",
    "    import doctest\n",
    "    doctest.testmod(verbose=True)"
   ]
  },
  {
   "cell_type": "code",
   "execution_count": 4,
   "metadata": {},
   "outputs": [
    {
     "name": "stdout",
     "output_type": "stream",
     "text": [
      "4.4721\n"
     ]
    }
   ],
   "source": [
    "x1, y1 = [float(a) for a in input().split()]\n",
    "x2, y2 = [float(a) for a in input().split()]\n",
    "\n",
    "p1 = Point(x1, y1)\n",
    "p2 = Point(x2, y2)\n",
    "\n",
    "d = p1.distance(p2)\n",
    "\n",
    "print(f'{d:.4f}')"
   ]
  }
 ],
 "metadata": {
  "kernelspec": {
   "display_name": "Python 3",
   "language": "python",
   "name": "python3"
  },
  "language_info": {
   "codemirror_mode": {
    "name": "ipython",
    "version": 3
   },
   "file_extension": ".py",
   "mimetype": "text/x-python",
   "name": "python",
   "nbconvert_exporter": "python",
   "pygments_lexer": "ipython3",
   "version": "3.11.2"
  }
 },
 "nbformat": 4,
 "nbformat_minor": 2
}
